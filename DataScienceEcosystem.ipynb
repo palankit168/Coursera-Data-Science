{
 "cells": [
  {
   "cell_type": "markdown",
   "id": "afecd43e-3067-401d-b13a-f24a0cc8922d",
   "metadata": {},
   "source": [
    "# Data Science Tools and Ecosystem"
   ]
  },
  {
   "cell_type": "markdown",
   "id": "b227d164-4568-4618-b4e8-a9a320148eac",
   "metadata": {},
   "source": [
    "## In this notebook, Data Science Tools and Ecosystem are summarized. ##"
   ]
  },
  {
   "cell_type": "markdown",
   "id": "bbc37937-7ee8-4442-8905-fe1a68eab5c5",
   "metadata": {},
   "source": [
    "Some of the popular languages that Data Scientists use are:\n",
    "1. Python\n",
    "2. R\n",
    "3. SQL\n",
    "4. Julia"
   ]
  },
  {
   "cell_type": "markdown",
   "id": "b930cd2c-aad9-4e06-ac9a-e4b633758d9b",
   "metadata": {},
   "source": [
    "Some of the commonly used libraries used by Data Scientists include:\n",
    "1. NumPy\r",
    "2. \n",
    "Matplotli.3. \r\n",
    "Pand.4. .\r\n",
    "Sc.5. ..\r\n",
    "PyT 6. ...\r\n",
    "Seorn. "
   ]
  },
  {
   "cell_type": "markdown",
   "id": "c3b21fae-f272-4985-8053-aeaacecbff05",
   "metadata": {},
   "source": [
    "**Objectives:**\n",
    "- List popular languages for Data Science\n",
    "- List commonly used libraries used by Data Scientists\n",
    "- List Data Science Tools\n",
    "- Convert 200 minutes to hours by diving by 60\n",
    "- A simple arithmetic expression to mutiply then add integersrn. "
   ]
  },
  {
   "cell_type": "markdown",
   "id": "fb5fd49d-a9e3-483f-a328-a30bea0c136c",
   "metadata": {},
   "source": [
    "| Data Science Tools |\n",
    "| ------------------ |\n",
    "| Jupyter Notebook |\r",
    "| RStudi |\n",
    "| Apache Spark |"
   ]
  },
  {
   "cell_type": "markdown",
   "id": "eb22129c-5f14-48bf-a41d-1ce4ab9b494f",
   "metadata": {},
   "source": [
    "### Below are a few examples of evaluating arithmetic expressions in Python"
   ]
  },
  {
   "cell_type": "code",
   "execution_count": 20,
   "id": "02a1acef-438d-48c2-9b7d-3f7ac0f25986",
   "metadata": {},
   "outputs": [
    {
     "data": {
      "text/plain": [
       "17"
      ]
     },
     "execution_count": 20,
     "metadata": {},
     "output_type": "execute_result"
    }
   ],
   "source": [
    "# This a simple arithmetic expression to mutiply then add integers\n",
    "(3*4)+5"
   ]
  },
  {
   "cell_type": "code",
   "execution_count": 26,
   "id": "78ee1ee0-65a5-451f-ac7e-e37f6dfc7e29",
   "metadata": {},
   "outputs": [
    {
     "name": "stdout",
     "output_type": "stream",
     "text": [
      "3.3333333333333335\n"
     ]
    }
   ],
   "source": [
    "# This will convert 200 minutes to hours by diving by 60\n",
    "hours = 200/60\n",
    "print(hours)"
   ]
  },
  {
   "cell_type": "markdown",
   "id": "c8c89525-fdb6-4881-aa01-9f543c78b478",
   "metadata": {},
   "source": [
    "## Author ##\n",
    "Ankit Pal"
   ]
  },
  {
   "cell_type": "code",
   "execution_count": null,
   "id": "2ee69658-1791-4b84-84c0-fccc760b3d25",
   "metadata": {},
   "outputs": [],
   "source": []
  }
 ],
 "metadata": {
  "kernelspec": {
   "display_name": "Python 3 (ipykernel)",
   "language": "python",
   "name": "python3"
  },
  "language_info": {
   "codemirror_mode": {
    "name": "ipython",
    "version": 3
   },
   "file_extension": ".py",
   "mimetype": "text/x-python",
   "name": "python",
   "nbconvert_exporter": "python",
   "pygments_lexer": "ipython3",
   "version": "3.11.7"
  }
 },
 "nbformat": 4,
 "nbformat_minor": 5
}
